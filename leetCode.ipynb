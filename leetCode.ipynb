{
 "cells": [
  {
   "cell_type": "markdown",
   "metadata": {},
   "source": [
    "Isomorphic arrays\n",
    "Given two strings s and t, determine if they are isomorphic. Two strings are isomorphic if the characters in s can be replaced to get t.\n",
    "for example, s = \"egg\" and t=\"add\" returns true, but \"foo\" and \"bar\" is false\n"
   ]
  },
  {
   "cell_type": "markdown",
   "metadata": {},
   "source": [
    "We create a hashmap as we traverse the string"
   ]
  },
  {
   "cell_type": "code",
   "execution_count": 5,
   "metadata": {},
   "outputs": [],
   "source": [
    "def isIsomorphic(s: str, t: str) -> bool:\n",
    "    map = {}\n",
    "    tmap = []\n",
    "    for i in range(len(s)):\n",
    "        if s[i] not in map:\n",
    "            map[s[i]] = t[i]\n",
    "            tmap.append(t[i])\n",
    "        elif map[s[i]] != t[i] :\n",
    "            return False\n",
    "    if len(tmap) > len(set(tmap)):\n",
    "        return False\n",
    "    return True"
   ]
  },
  {
   "cell_type": "code",
   "execution_count": 6,
   "metadata": {},
   "outputs": [
    {
     "data": {
      "text/plain": [
       "True"
      ]
     },
     "execution_count": 6,
     "metadata": {},
     "output_type": "execute_result"
    }
   ],
   "source": [
    "isIsomorphic(\"egg\", \"add\")"
   ]
  },
  {
   "cell_type": "markdown",
   "metadata": {},
   "source": [
    "Find K-th Smallest Pair Distance\n",
    "Given an integer array, return the k-th smallest distance among all the pairs. The distance of a pair (A, B) is defined as the absolute difference between A and B."
   ]
  },
  {
   "cell_type": "markdown",
   "metadata": {},
   "source": [
    "We sort the array, then using binary search we explore all the pairs in the sorted array whose value is lower than (max - min), which is the smallest distance at the beginning. Then, update the smallest distance until we explore the array using binary search."
   ]
  },
  {
   "cell_type": "code",
   "execution_count": 1,
   "metadata": {},
   "outputs": [],
   "source": [
    "from typing import List\n",
    "import math\n",
    "def smallestDistancePair(nums: List[int], k: int) -> int:\n",
    "        sorted_nums = sorted(nums)\n",
    "        low = 0\n",
    "        high = sorted_nums[-1] - sorted_nums[0]\n",
    "        while (low < high): \n",
    "            mid = (low + high) / 2\n",
    "            count = 0\n",
    "            left = 0\n",
    "            for right in range(len(nums)):\n",
    "                while(sorted_nums[right] - sorted_nums[left]>mid):\n",
    "                    left = left + 1\n",
    "                count = count + right - left\n",
    "            if (count >= k):\n",
    "                high = mid\n",
    "            else:\n",
    "                low = mid + 1\n",
    "        return math.floor(low)"
   ]
  },
  {
   "cell_type": "code",
   "execution_count": 2,
   "metadata": {},
   "outputs": [
    {
     "data": {
      "text/plain": [
       "0"
      ]
     },
     "execution_count": 2,
     "metadata": {},
     "output_type": "execute_result"
    }
   ],
   "source": [
    "smallestDistancePair([1,3,1],1)"
   ]
  },
  {
   "cell_type": "markdown",
   "metadata": {},
   "source": [
    "HINT\n",
    "To get the key with maximum value you can run max(dictionary, key = dictionary.get)"
   ]
  },
  {
   "cell_type": "code",
   "execution_count": 3,
   "metadata": {},
   "outputs": [
    {
     "name": "stdout",
     "output_type": "stream",
     "text": [
      "GameOfThrones\n"
     ]
    }
   ],
   "source": [
    "Tv = {'BreakingBad':100, 'GameOfThrones':1292, 'TMKUC' : 88} \n",
    "  \n",
    "Keymax = max(Tv, key=Tv.get) \n",
    "print(Keymax) \n",
    "\n"
   ]
  },
  {
   "cell_type": "markdown",
   "metadata": {},
   "source": [
    "X of a Kind in a Deck of Cards\n",
    "In a deck of cards, each card has an integer written on it.\n",
    "\n",
    "Return true if and only if you can choose X >= 2 such that it is possible to split the entire deck into 1 or more groups of cards, where:\n",
    "\n",
    "Each group has exactly X cards.\n",
    "All the cards in each group have the same integer."
   ]
  },
  {
   "cell_type": "markdown",
   "metadata": {},
   "source": [
    "First make a hashmap of the numbers in the deck, then make a list of the values, pass it to a gcd function, if the gcd is more than one, it returns true."
   ]
  },
  {
   "cell_type": "code",
   "execution_count": 32,
   "metadata": {},
   "outputs": [],
   "source": [
    "from functools import reduce\n",
    "def hasGroupsSizeX(deck: List[int]) -> bool:\n",
    "        map = {}\n",
    "        for i in range(len(deck)):\n",
    "            if deck[i] not in map:\n",
    "                map[deck[i]] = 1\n",
    "            else:\n",
    "                map[deck[i]] = map[deck[i]]+1\n",
    "        #print('map is:', map)\n",
    "        elem = list(map.values())\n",
    "        #print('max elems are:', max(elem))\n",
    "        def gcd(a, b):\n",
    "            while b: a, b = b, a % b\n",
    "            return a\n",
    "        return reduce(gcd,elem) > 1"
   ]
  },
  {
   "cell_type": "markdown",
   "metadata": {},
   "source": [
    "OR use Counter to automatically create the map"
   ]
  },
  {
   "cell_type": "code",
   "execution_count": 33,
   "metadata": {},
   "outputs": [],
   "source": [
    "from collections import Counter\n",
    "def hasGroupsSizeX(deck: List[int]) -> bool:\n",
    "        map = Counter(deck)\n",
    "        #print(a)\n",
    "        elem = list(map.values())\n",
    "        def gcd(a, b):\n",
    "            while b: a, b = b, a % b\n",
    "            return a\n",
    "        return reduce(gcd,elem) > 1"
   ]
  },
  {
   "cell_type": "code",
   "execution_count": 34,
   "metadata": {},
   "outputs": [
    {
     "data": {
      "text/plain": [
       "True"
      ]
     },
     "execution_count": 34,
     "metadata": {},
     "output_type": "execute_result"
    }
   ],
   "source": [
    "hasGroupsSizeX([1,2,3,4,4,3,2,1])"
   ]
  },
  {
   "cell_type": "markdown",
   "metadata": {},
   "source": [
    "Word Pattern (similar to isomorphic arrays)\n",
    "Given a pattern and a string s, find if s follows the same pattern.\n",
    "\n",
    "Input: pattern = \"abba\", s = \"dog cat cat dog\"\n",
    "Output: true"
   ]
  },
  {
   "cell_type": "code",
   "execution_count": 16,
   "metadata": {},
   "outputs": [],
   "source": [
    "def wordPattern(pattern: str, s: str) -> bool:\n",
    "        map = {}\n",
    "        smap = []\n",
    "        splitted = s.split()\n",
    "        if len(splitted) != len(pattern):\n",
    "            return False\n",
    "        for i in range(len(pattern)):\n",
    "            if pattern[i] not in map:\n",
    "                map[pattern[i]] = splitted[i]\n",
    "                smap.append(splitted[i])\n",
    "            elif map[pattern[i]] != splitted[i]:\n",
    "                return False\n",
    "        if len(smap) > len(set(smap)):\n",
    "            return False\n",
    "        return True"
   ]
  },
  {
   "cell_type": "code",
   "execution_count": 17,
   "metadata": {},
   "outputs": [
    {
     "data": {
      "text/plain": [
       "True"
      ]
     },
     "execution_count": 17,
     "metadata": {},
     "output_type": "execute_result"
    }
   ],
   "source": [
    "wordPattern(\"abba\",\"dog cat cat dog\")"
   ]
  },
  {
   "cell_type": "markdown",
   "metadata": {},
   "source": [
    "Binary Tree Right Side View\n",
    "Given a binary tree, imagine yourself standing on the right side of it, return the values of the nodes you can see ordered from top to bottom.\n",
    "Input: [1,2,3,null,5,null,4]\n",
    "Output: [1, 3, 4]\n",
    "Explanation:\n",
    "\n",
    "   1            <---\n",
    " /   \\\n",
    "2     3         <---\n",
    " \\     \\\n",
    "  5     4       <---"
   ]
  },
  {
   "cell_type": "markdown",
   "metadata": {},
   "source": [
    "Write a DFS function, to get current node, current depth and the view (result). Inside the function, if the node is empty return, if not append the current view to the previous view. The main part is to call DFS function on rightnode first and then on left node."
   ]
  },
  {
   "cell_type": "code",
   "execution_count": 18,
   "metadata": {},
   "outputs": [],
   "source": [
    "# Definition for a binary tree node.\n",
    "class TreeNode:\n",
    "    def __init__(self, val=0, left=None, right=None):\n",
    "        self.val = val\n",
    "        self.left = left\n",
    "        self.right = right\n",
    "class Solution:\n",
    "    def rightSideView(root: TreeNode) -> List[int]:\n",
    "        result = []\n",
    "        self.rightSideViewDFS(root, 1, result)\n",
    "        return result\n",
    "    \n",
    "    def rightSideViewDFS(node, depth, result):\n",
    "        if not node:\n",
    "            return \n",
    "        \n",
    "        if depth > len(result):\n",
    "            result.append(node.val)\n",
    "        \n",
    "        self.rightSideViewDFS(node.right, depth+1, result)\n",
    "        self.rightSideViewDFS(node.left, depth+1, result)"
   ]
  },
  {
   "cell_type": "markdown",
   "metadata": {},
   "source": [
    "Word Subsets\n",
    "We are given two arrays A and B of words.  Each word is a string of lowercase letters.\n",
    "\n",
    "Now, say that word b is a subset of word a if every letter in b occurs in a, including multiplicity.  For example, \"wrr\" is a subset of \"warrior\", but is not a subset of \"world\".\n",
    "\n",
    "Now say a word a from A is universal if for every b in B, b is a subset of a. \n",
    "\n",
    "Return a list of all universal words in A.  You can return the words in any order."
   ]
  },
  {
   "cell_type": "markdown",
   "metadata": {},
   "source": [
    "This is equivalent of looking at the hashmap of two lists where keys are characters and values are the number of times a character repeated. This will be achieved by using Counter funciton over elements of both lists.\n",
    "Now, we only add an element of list A to the solution, if all of the values of characters of list B in hashmap A is >= the values of characters of list B in hashmap B. This means that element in list A has >= of the same chars"
   ]
  },
  {
   "cell_type": "code",
   "execution_count": 97,
   "metadata": {},
   "outputs": [],
   "source": [
    "import collections\n",
    "def wordSubsets(A: List[str], B: List[str]) -> List[str]:\n",
    "    maxcb = Counter()\n",
    "    for b in B:\n",
    "        maxcb |= Counter(b)\n",
    "    ans = []\n",
    "    for a in A:\n",
    "        ca = Counter(a) \n",
    "        if all(ca[word_B] >= maxcb[word_B] for word_B in maxcb):\n",
    "            ans.append(a)\n",
    "    return ans"
   ]
  },
  {
   "cell_type": "code",
   "execution_count": 98,
   "metadata": {},
   "outputs": [
    {
     "data": {
      "text/plain": [
       "['facebook', 'google', 'leetcode']"
      ]
     },
     "execution_count": 98,
     "metadata": {},
     "output_type": "execute_result"
    }
   ],
   "source": [
    "wordSubsets([\"amazon\",\"apple\",\"facebook\",\"google\",\"leetcode\"], [\"e\",\"o\"])"
   ]
  },
  {
   "cell_type": "markdown",
   "metadata": {},
   "source": [
    "Running Sum of 1d Array\n",
    "Given an array nums. We define a running sum of an array as runningSum[i] = sum(nums[0]…nums[i]).\n",
    "Return the running sum of nums.\n",
    "Input: nums = [1,2,3,4]\n",
    "Output: [1,3,6,10]\n",
    "Explanation: Running sum is obtained as follows: [1, 1+2, 1+2+3, 1+2+3+4].\n"
   ]
  },
  {
   "cell_type": "code",
   "execution_count": null,
   "metadata": {},
   "outputs": [],
   "source": []
  }
 ],
 "metadata": {
  "kernelspec": {
   "display_name": "Python 3",
   "language": "python",
   "name": "python3"
  },
  "language_info": {
   "codemirror_mode": {
    "name": "ipython",
    "version": 3
   },
   "file_extension": ".py",
   "mimetype": "text/x-python",
   "name": "python",
   "nbconvert_exporter": "python",
   "pygments_lexer": "ipython3",
   "version": "3.5.3"
  }
 },
 "nbformat": 4,
 "nbformat_minor": 4
}
