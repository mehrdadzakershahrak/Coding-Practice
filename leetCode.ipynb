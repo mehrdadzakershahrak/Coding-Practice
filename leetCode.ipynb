{
 "cells": [
  {
   "cell_type": "markdown",
   "metadata": {},
   "source": [
    "### Isomorphic arrays\n",
    "Given two strings s and t, determine if they are isomorphic. Two strings are isomorphic if the characters in s can be replaced to get t.\n",
    "for example, s = \"egg\" and t=\"add\" returns true, but \"foo\" and \"bar\" is false\n"
   ]
  },
  {
   "cell_type": "markdown",
   "metadata": {},
   "source": [
    "We create a hashmap as we traverse the string"
   ]
  },
  {
   "cell_type": "code",
   "execution_count": 3,
   "metadata": {},
   "outputs": [],
   "source": [
    "def isIsomorphic(s: str, t: str) -> bool:\n",
    "    map = {}\n",
    "    tmap = []\n",
    "    for i in range(len(s)):\n",
    "        if s[i] not in map:\n",
    "            map[s[i]] = t[i]\n",
    "            tmap.append(t[i])\n",
    "        elif map[s[i]] != t[i] :\n",
    "            return False\n",
    "    if len(tmap) > len(set(tmap)):\n",
    "        return False\n",
    "    return True"
   ]
  },
  {
   "cell_type": "code",
   "execution_count": 4,
   "metadata": {},
   "outputs": [
    {
     "data": {
      "text/plain": [
       "True"
      ]
     },
     "execution_count": 4,
     "metadata": {},
     "output_type": "execute_result"
    }
   ],
   "source": [
    "isIsomorphic(\"egg\", \"add\")"
   ]
  },
  {
   "cell_type": "markdown",
   "metadata": {},
   "source": [
    "### Find K-th Smallest Pair Distance\n",
    "Given an integer array, return the k-th smallest distance among all the pairs. The distance of a pair (A, B) is defined as the absolute difference between A and B."
   ]
  },
  {
   "cell_type": "markdown",
   "metadata": {},
   "source": [
    "We sort the array, then using binary search we explore all the pairs in the sorted array whose value is lower than (max - min), which is the smallest distance at the beginning. Then, update the smallest distance until we explore the array using binary search."
   ]
  },
  {
   "cell_type": "code",
   "execution_count": 2,
   "metadata": {},
   "outputs": [],
   "source": [
    "from typing import List\n",
    "import math\n",
    "def smallestDistancePair(nums: List[int], k: int) -> int:\n",
    "        sorted_nums = sorted(nums)\n",
    "        low = 0\n",
    "        high = sorted_nums[-1] - sorted_nums[0]\n",
    "        while (low < high): \n",
    "            mid = (low + high) / 2\n",
    "            count = 0\n",
    "            left = 0\n",
    "            for right in range(len(nums)):\n",
    "                while(sorted_nums[right] - sorted_nums[left]>mid):\n",
    "                    left = left + 1\n",
    "                count = count + right - left\n",
    "            if (count >= k):\n",
    "                high = mid\n",
    "            else:\n",
    "                low = mid + 1\n",
    "        return math.floor(low)"
   ]
  },
  {
   "cell_type": "code",
   "execution_count": 6,
   "metadata": {},
   "outputs": [
    {
     "data": {
      "text/plain": [
       "0"
      ]
     },
     "execution_count": 6,
     "metadata": {},
     "output_type": "execute_result"
    }
   ],
   "source": [
    "smallestDistancePair([1,3,1],1)"
   ]
  },
  {
   "cell_type": "markdown",
   "metadata": {},
   "source": [
    "HINT\n",
    "To get the key with maximum value you can run max(dictionary, key = dictionary.get)"
   ]
  },
  {
   "cell_type": "code",
   "execution_count": 7,
   "metadata": {},
   "outputs": [
    {
     "name": "stdout",
     "output_type": "stream",
     "text": [
      "GameOfThrones\n"
     ]
    }
   ],
   "source": [
    "Tv = {'BreakingBad':100, 'GameOfThrones':1292, 'TMKUC' : 88} \n",
    "  \n",
    "Keymax = max(Tv, key=Tv.get) \n",
    "print(Keymax) \n",
    "\n"
   ]
  },
  {
   "cell_type": "markdown",
   "metadata": {},
   "source": [
    "### X of a Kind in a Deck of Cards\n",
    "In a deck of cards, each card has an integer written on it.\n",
    "\n",
    "Return true if and only if you can choose X >= 2 such that it is possible to split the entire deck into 1 or more groups of cards, where:\n",
    "\n",
    "Each group has exactly X cards.\n",
    "All the cards in each group have the same integer."
   ]
  },
  {
   "cell_type": "markdown",
   "metadata": {},
   "source": [
    "First make a hashmap of the numbers in the deck, then make a list of the values, pass it to a gcd function, if the gcd is more than one, it returns true."
   ]
  },
  {
   "cell_type": "code",
   "execution_count": 8,
   "metadata": {},
   "outputs": [],
   "source": [
    "from functools import reduce\n",
    "def hasGroupsSizeX(deck: List[int]) -> bool:\n",
    "        map = {}\n",
    "        for i in range(len(deck)):\n",
    "            if deck[i] not in map:\n",
    "                map[deck[i]] = 1\n",
    "            else:\n",
    "                map[deck[i]] = map[deck[i]]+1\n",
    "        #print('map is:', map)\n",
    "        elem = list(map.values())\n",
    "        #print('max elems are:', max(elem))\n",
    "        def gcd(a, b):\n",
    "            while b: a, b = b, a % b\n",
    "            return a\n",
    "        return reduce(gcd,elem) > 1"
   ]
  },
  {
   "cell_type": "markdown",
   "metadata": {},
   "source": [
    "OR use Counter to automatically create the map"
   ]
  },
  {
   "cell_type": "code",
   "execution_count": 9,
   "metadata": {},
   "outputs": [],
   "source": [
    "from collections import Counter\n",
    "def hasGroupsSizeX(deck: List[int]) -> bool:\n",
    "        map = Counter(deck)\n",
    "        #print(a)\n",
    "        elem = list(map.values())\n",
    "        def gcd(a, b):\n",
    "            while b: a, b = b, a % b\n",
    "            return a\n",
    "        return reduce(gcd,elem) > 1"
   ]
  },
  {
   "cell_type": "code",
   "execution_count": 10,
   "metadata": {},
   "outputs": [
    {
     "data": {
      "text/plain": [
       "True"
      ]
     },
     "execution_count": 10,
     "metadata": {},
     "output_type": "execute_result"
    }
   ],
   "source": [
    "hasGroupsSizeX([1,2,3,4,4,3,2,1])"
   ]
  },
  {
   "cell_type": "markdown",
   "metadata": {},
   "source": [
    "### Word Pattern (similar to isomorphic arrays)\n",
    "Given a pattern and a string s, find if s follows the same pattern.\n",
    "\n",
    "Input: pattern = \"abba\", s = \"dog cat cat dog\"\n",
    "Output: true"
   ]
  },
  {
   "cell_type": "code",
   "execution_count": 11,
   "metadata": {},
   "outputs": [],
   "source": [
    "def wordPattern(pattern: str, s: str) -> bool:\n",
    "        map = {}\n",
    "        smap = []\n",
    "        splitted = s.split()\n",
    "        if len(splitted) != len(pattern):\n",
    "            return False\n",
    "        for i in range(len(pattern)):\n",
    "            if pattern[i] not in map:\n",
    "                map[pattern[i]] = splitted[i]\n",
    "                smap.append(splitted[i])\n",
    "            elif map[pattern[i]] != splitted[i]:\n",
    "                return False\n",
    "        if len(smap) > len(set(smap)):\n",
    "            return False\n",
    "        return True"
   ]
  },
  {
   "cell_type": "code",
   "execution_count": 12,
   "metadata": {},
   "outputs": [
    {
     "data": {
      "text/plain": [
       "True"
      ]
     },
     "execution_count": 12,
     "metadata": {},
     "output_type": "execute_result"
    }
   ],
   "source": [
    "wordPattern(\"abba\",\"dog cat cat dog\")"
   ]
  },
  {
   "cell_type": "markdown",
   "metadata": {},
   "source": [
    "### Binary Tree Right Side View\n",
    "Given a binary tree, imagine yourself standing on the right side of it, return the values of the nodes you can see ordered from top to bottom.\n",
    "Input: [1,2,3,null,5,null,4]\n",
    "Output: [1, 3, 4]\n",
    "Explanation:\n",
    "\n",
    "   1            <---\n",
    " /   \\\n",
    "2     3         <---\n",
    " \\     \\\n",
    "  5     4       <---"
   ]
  },
  {
   "cell_type": "markdown",
   "metadata": {},
   "source": [
    "Write a DFS function, to get current node, current depth and the view (result). Inside the function, if the node is empty return, if not append the current view to the previous view. The main part is to call DFS function on rightnode first and then on left node."
   ]
  },
  {
   "cell_type": "code",
   "execution_count": 13,
   "metadata": {},
   "outputs": [],
   "source": [
    "# Definition for a binary tree node.\n",
    "class TreeNode:\n",
    "    def __init__(self, val=0, left=None, right=None):\n",
    "        self.val = val\n",
    "        self.left = left\n",
    "        self.right = right\n",
    "class Solution:\n",
    "    def rightSideView(root: TreeNode) -> List[int]:\n",
    "        result = []\n",
    "        self.rightSideViewDFS(root, 1, result)\n",
    "        return result\n",
    "    \n",
    "    def rightSideViewDFS(node, depth, result):\n",
    "        if not node:\n",
    "            return \n",
    "        \n",
    "        if depth > len(result):\n",
    "            result.append(node.val)\n",
    "        \n",
    "        self.rightSideViewDFS(node.right, depth+1, result)\n",
    "        self.rightSideViewDFS(node.left, depth+1, result)"
   ]
  },
  {
   "cell_type": "markdown",
   "metadata": {},
   "source": [
    "### Word Subsets\n",
    "We are given two arrays A and B of words.  Each word is a string of lowercase letters.\n",
    "\n",
    "Now, say that word b is a subset of word a if every letter in b occurs in a, including multiplicity.  For example, \"wrr\" is a subset of \"warrior\", but is not a subset of \"world\".\n",
    "\n",
    "Now say a word a from A is universal if for every b in B, b is a subset of a. \n",
    "\n",
    "Return a list of all universal words in A.  You can return the words in any order."
   ]
  },
  {
   "cell_type": "markdown",
   "metadata": {},
   "source": [
    "This is equivalent of looking at the hashmap of two lists where keys are characters and values are the number of times a character repeated. This will be achieved by using Counter funciton over elements of both lists.\n",
    "Now, we only add an element of list A to the solution, if all of the values of characters of list B in hashmap A is >= the values of characters of list B in hashmap B. This means that element in list A has >= of the same chars"
   ]
  },
  {
   "cell_type": "code",
   "execution_count": 14,
   "metadata": {},
   "outputs": [],
   "source": [
    "import collections\n",
    "def wordSubsets(A: List[str], B: List[str]) -> List[str]:\n",
    "    maxcb = Counter()\n",
    "    for b in B:\n",
    "        maxcb |= Counter(b)\n",
    "    ans = []\n",
    "    for a in A:\n",
    "        ca = Counter(a) \n",
    "        if all(ca[word_B] >= maxcb[word_B] for word_B in maxcb):\n",
    "            ans.append(a)\n",
    "    return ans"
   ]
  },
  {
   "cell_type": "code",
   "execution_count": 15,
   "metadata": {},
   "outputs": [
    {
     "data": {
      "text/plain": [
       "['facebook', 'google', 'leetcode']"
      ]
     },
     "execution_count": 15,
     "metadata": {},
     "output_type": "execute_result"
    }
   ],
   "source": [
    "wordSubsets([\"amazon\",\"apple\",\"facebook\",\"google\",\"leetcode\"], [\"e\",\"o\"])"
   ]
  },
  {
   "cell_type": "markdown",
   "metadata": {},
   "source": [
    "### Running Sum of 1d Array\n",
    "Given an array nums. We define a running sum of an array as runningSum[i] = sum(nums[0]…nums[i]).\n",
    "Return the running sum of nums.\n",
    "Input: nums = [1,2,3,4]\n",
    "Output: [1,3,6,10]\n",
    "Explanation: Running sum is obtained as follows: [1, 1+2, 1+2+3, 1+2+3+4].\n"
   ]
  },
  {
   "cell_type": "code",
   "execution_count": 16,
   "metadata": {},
   "outputs": [],
   "source": [
    "def runningSum(nums: List[int]) -> List[int]:\n",
    "    sum = [0] * len(nums)\n",
    "    total = 0\n",
    "    for num in range(len(nums)):\n",
    "        sum[num] = total + nums[num]\n",
    "        total = sum[num]\n",
    "    return sum"
   ]
  },
  {
   "cell_type": "code",
   "execution_count": 17,
   "metadata": {},
   "outputs": [
    {
     "data": {
      "text/plain": [
       "[1, 3, 6, 10]"
      ]
     },
     "execution_count": 17,
     "metadata": {},
     "output_type": "execute_result"
    }
   ],
   "source": [
    "runningSum([1,2,3,4])"
   ]
  },
  {
   "cell_type": "markdown",
   "metadata": {},
   "source": [
    "Valid Triangle Number\n",
    "Given an array consists of non-negative integers, your task is to count the number of triplets chosen from the array that can make triangles if we take them as side lengths of a triangle.\n",
    "Example 1:\n",
    "Input: [2,2,3,4]\n",
    "Output: 3\n",
    "Explanation:\n",
    "Valid combinations are: \n",
    "2,3,4 (using the first 2)\n",
    "2,3,4 (using the second 2)"
   ]
  },
  {
   "cell_type": "markdown",
   "metadata": {},
   "source": [
    "First, sort the given array. Then, check if the first index and last (smallest and biggest number), and one from last, form a triangle. If they form a triangle, all of the other numbers in between also do. Therefore, you add the result to the second from the last index - index of the first, since the array is sorted."
   ]
  },
  {
   "cell_type": "code",
   "execution_count": 18,
   "metadata": {},
   "outputs": [],
   "source": [
    "def triangleNumber(nums):\n",
    "    res, n = 0, len(nums)\n",
    "    nums.sort()\n",
    "    for i in range(n - 1, 1, -1):\n",
    "        j = i-1\n",
    "        k = 0\n",
    "        while k < j:\n",
    "            if nums[j] + nums[k] > nums[i]:\n",
    "                res += j - k\n",
    "                j -= 1\n",
    "            else: k += 1\n",
    "    return res"
   ]
  },
  {
   "cell_type": "code",
   "execution_count": 19,
   "metadata": {},
   "outputs": [
    {
     "data": {
      "text/plain": [
       "3"
      ]
     },
     "execution_count": 19,
     "metadata": {},
     "output_type": "execute_result"
    }
   ],
   "source": [
    "triangleNumber([2,2,3,4])"
   ]
  },
  {
   "cell_type": "markdown",
   "metadata": {},
   "source": [
    "### Two Sum\n",
    "Given an array of integers nums and an integer target, return indices of the two numbers such that they add up to target.\n",
    "You may assume that each input would have exactly one solution, and you may not use the same element twice."
   ]
  },
  {
   "cell_type": "code",
   "execution_count": 22,
   "metadata": {},
   "outputs": [],
   "source": [
    "def twoSum(self, nums: List[int], target: int) -> List[int]:\n",
    "        # Method 3: Hash the difference\n",
    "        # key: num\n",
    "        # value: index of num\n",
    "        # Space: O(N)\n",
    "        # Time: O(N)\n",
    "        num_to_id = {}\n",
    "        for i, num in enumerate(nums):\n",
    "            if target - num in num_to_id:\n",
    "                return [i, num_to_id[target - num]]\n",
    "            else:\n",
    "                num_to_id[num] = i"
   ]
  },
  {
   "cell_type": "markdown",
   "metadata": {},
   "source": [
    "### 3Sum\n",
    "Given an integer array nums, return all the triplets [nums[i], nums[j], nums[k]] such that i != j, i != k, and j != k, and nums[i] + nums[j] + nums[k] == 0.\n",
    "Notice that the solution set must not contain duplicate triplets.\n",
    "Example 1:\n",
    "\n",
    "Input: nums = [-1,0,1,2,-1,-4]\n",
    "Output: [[-1,-1,2],[-1,0,1]]"
   ]
  },
  {
   "cell_type": "code",
   "execution_count": 23,
   "metadata": {},
   "outputs": [],
   "source": [
    "def threeSum(self, nums):\n",
    "        res, res_set = [], set()\n",
    "        nums.sort()\n",
    "        for i in range(len(nums) - 2):\n",
    "            l, r = i + 1, len(nums) - 1\n",
    "            while l < r:\n",
    "                sm = nums[i] + nums[l] + nums[r] \n",
    "                if sm < 0: l += 1\n",
    "                elif sm > 0: r -= 1\n",
    "                elif (nums[i], nums[l], nums[r]) not in res_set: \n",
    "                    res.append([nums[i], nums[l], nums[r]])\n",
    "                    res_set.add((nums[i], nums[l], nums[r])) \n",
    "                else: l, r = l + 1, r - 1\n",
    "        return res"
   ]
  },
  {
   "cell_type": "markdown",
   "metadata": {},
   "source": [
    "### Maximum Subarray\n",
    "Given an integer array nums, find the contiguous subarray (containing at least one number) which has the largest sum and return its sum.\n",
    "Example 1:\n",
    "\n",
    "Input: nums = [-2,1,-3,4,-1,2,1,-5,4]\n",
    "Output: 6\n",
    "Explanation: [4,-1,2,1] has the largest sum = 6."
   ]
  },
  {
   "cell_type": "code",
   "execution_count": 24,
   "metadata": {},
   "outputs": [],
   "source": [
    "def maxSubArray(self, nums):\n",
    "        sm, mn, mx = 0, 0, -float(\"inf\")\n",
    "        for num in nums:\n",
    "            sm += num\n",
    "            mx, mn = max(mx, sm - mn), min(mn, sm)\n",
    "        return mx"
   ]
  },
  {
   "cell_type": "markdown",
   "metadata": {},
   "source": [
    "### Maximum Average Subarray I\n",
    "You are given an integer array nums consisting of n elements, and an integer k.\n",
    "\n",
    "Find a contiguous subarray whose length is equal to k that has the maximum average value and return this value. Any answer with a calculation error less than 10-5 will be accepted.\n",
    "Example 1:\n",
    "\n",
    "Input: nums = [1,12,-5,-6,50,3], k = 4\n",
    "Output: 12.75000\n",
    "Explanation: Maximum average is (12 - 5 - 6 + 50) / 4 = 51 / 4 = 12.75"
   ]
  },
  {
   "cell_type": "code",
   "execution_count": 25,
   "metadata": {},
   "outputs": [],
   "source": [
    "def findMaxAverage(self, nums, k):\n",
    "        \"\"\"\n",
    "        :type nums: List[int]\n",
    "        :type k: int\n",
    "        :rtype: float\n",
    "        \"\"\"\n",
    "        sm=sum(nums[:k])\n",
    "        mx,j=sm/k, 0\n",
    "        for i in range(k,len(nums)): sm+=nums[i]; sm-=nums[j]; curr=sm/k; mx=max(curr,mx); j+=1\n",
    "        return mx"
   ]
  },
  {
   "cell_type": "markdown",
   "metadata": {},
   "source": [
    "### Maximum Product Subarray\n",
    "Given an integer array nums, find a contiguous non-empty subarray within the array that has the largest product, and return the product.\n",
    "\n",
    "It is guaranteed that the answer will fit in a 32-bit integer.\n",
    "\n",
    "A subarray is a contiguous subsequence of the array.\n",
    " \n",
    "Example 1:\n",
    "\n",
    "Input: nums = [2,3,-2,4]\n",
    "Output: 6\n",
    "Explanation: [2,3] has the largest product 6.\n"
   ]
  },
  {
   "cell_type": "code",
   "execution_count": 28,
   "metadata": {},
   "outputs": [],
   "source": [
    "def maxProduct(self, nums):\n",
    "        res, min_pos, max_neg, cur = -float(\"inf\"), float(\"inf\"), -float(\"inf\"), 1\n",
    "        for num in nums:\n",
    "            cur *= num\n",
    "            if cur > res: res = cur\n",
    "            elif 0 < cur // min_pos > res: res = cur // min_pos\n",
    "            elif 0 < cur // max_neg > res: res = cur // max_neg\n",
    "            if cur == 0: min_pos, max_neg, cur = float(\"inf\"), -float(\"inf\"), 1\n",
    "            elif max_neg < cur < 0: max_neg = cur\n",
    "            elif 0 < cur < min_pos: min_pos = cur\n",
    "        return res"
   ]
  },
  {
   "cell_type": "markdown",
   "metadata": {},
   "source": [
    "### Find Minimum in Rotated Sorted Array\n",
    "Suppose an array of length n sorted in ascending order is rotated between 1 and n times. For example, the array nums = [0,1,2,4,5,6,7] might become:\n",
    "\n",
    "[4,5,6,7,0,1,2] if it was rotated 4 times.\n",
    "[0,1,2,4,5,6,7] if it was rotated 7 times.\n",
    "Notice that rotating an array [a[0], a[1], a[2], ..., a[n-1]] 1 time results in the array [a[n-1], a[0], a[1], a[2], ..., a[n-2]].\n",
    "\n",
    "Given the sorted rotated array nums of unique elements, return the minimum element of this array.\n",
    "\n",
    "You must write an algorithm that runs in O(log n) time.\n",
    "\n",
    " \n",
    "\n",
    "Example 1:\n",
    "\n",
    "Input: nums = [3,4,5,1,2]\n",
    "Output: 1\n",
    "Explanation: The original array was [1,2,3,4,5] rotated 3 times."
   ]
  },
  {
   "cell_type": "code",
   "execution_count": 30,
   "metadata": {},
   "outputs": [],
   "source": [
    "def findMin(self, nums):\n",
    "        left, right = 0, len(nums)-1\n",
    "        while left < right and nums[left] >= nums[right]:\n",
    "            mid = left + (right - left) // 2\n",
    "            if nums[mid] < nums[left]:\n",
    "                right = mid\n",
    "            else: left = mid + 1\n",
    "        return nums[left]"
   ]
  },
  {
   "cell_type": "markdown",
   "metadata": {},
   "source": [
    "### Search in Rotated Sorted Array\n",
    "There is an integer array nums sorted in ascending order (with distinct values).\n",
    "\n",
    "Prior to being passed to your function, nums is rotated at an unknown pivot index k (0 <= k < nums.length) such that the resulting array is [nums[k], nums[k+1], ..., nums[n-1], nums[0], nums[1], ..., nums[k-1]] (0-indexed). For example, [0,1,2,4,5,6,7] might be rotated at pivot index 3 and become [4,5,6,7,0,1,2].\n",
    "\n",
    "Given the array nums after the rotation and an integer target, return the index of target if it is in nums, or -1 if it is not in nums.\n",
    "\n",
    "You must write an algorithm with O(log n) runtime complexity.\n",
    "\n",
    "\n",
    "Example 1:\n",
    "\n",
    "Input: nums = [4,5,6,7,0,1,2], target = 0\n",
    "Output: 4"
   ]
  },
  {
   "cell_type": "code",
   "execution_count": 31,
   "metadata": {},
   "outputs": [],
   "source": [
    "def search(self, nums, target):\n",
    "        l, r = 0, len(nums) - 1\n",
    "        while l <= r:\n",
    "            mid = (l + r) // 2\n",
    "            if nums[mid] == target: \n",
    "                return mid\n",
    "            elif sum((target < nums[l], nums[l] <= nums[mid], nums[mid] < target)) == 2: \n",
    "                l = mid + 1\n",
    "            else: \n",
    "                r = mid - 1\n",
    "        return -1"
   ]
  },
  {
   "cell_type": "markdown",
   "metadata": {},
   "source": [
    "### Implement Rand10() Using Rand7\n",
    "Given the API rand7() that generates a uniform random integer in the range [1, 7], write a function rand10() that generates a uniform random integer in the range [1, 10]. You can only call the API rand7(), and you shouldn't call any other API. Please do not use a language's built-in random API.\n",
    "\n",
    "Each test case will have one internal argument n, the number of times that your implemented function rand10() will be called while testing. Note that this is not an argument passed to rand10().\n",
    "\n",
    "Follow up:\n",
    "\n",
    "What is the expected value for the number of calls to rand7() function?\n",
    "Could you minimize the number of calls to rand7()?"
   ]
  },
  {
   "cell_type": "code",
   "execution_count": 32,
   "metadata": {},
   "outputs": [],
   "source": [
    "def rand10(self):\n",
    "        return sum(rand7() for _ in range(10)) % 10 + 1"
   ]
  },
  {
   "cell_type": "markdown",
   "metadata": {},
   "source": [
    "### All Paths From Source to Target\n",
    "Given a directed acyclic graph (DAG) of n nodes labeled from 0 to n - 1, find all possible paths from node 0 to node n - 1, and return them in any order.\n",
    "\n",
    "The graph is given as follows: graph[i] is a list of all nodes you can visit from node i (i.e., there is a directed edge from node i to node graph[i][j])."
   ]
  },
  {
   "cell_type": "code",
   "execution_count": 34,
   "metadata": {},
   "outputs": [],
   "source": [
    "def allPathsSourceTarget(self, graph, i = 0, q = [0]):\n",
    "        if i == 0: \n",
    "            global res\n",
    "            res = []\n",
    "        if i == len(graph) - 1: \n",
    "            res.append(q)\n",
    "        for index in graph[i]: \n",
    "            self.allPathsSourceTarget(graph, index, q + [index])\n",
    "        return res"
   ]
  },
  {
   "cell_type": "markdown",
   "metadata": {},
   "source": [
    "### Is Graph Bipartite?\n",
    "There is an undirected graph with n nodes, where each node is numbered between 0 and n - 1. You are given a 2D array graph, where graph[u] is an array of nodes that node u is adjacent to. More formally, for each v in graph[u], there is an undirected edge between node u and node v. The graph has the following properties:\n",
    "\n",
    "There are no self-edges (graph[u] does not contain u).\n",
    "There are no parallel edges (graph[u] does not contain duplicate values).\n",
    "If v is in graph[u], then u is in graph[v] (the graph is undirected).\n",
    "The graph may not be connected, meaning there may be two nodes u and v such that there is no path between them.\n",
    "A graph is bipartite if the nodes can be partitioned into two independent sets A and B such that every edge in the graph connects a node in set A and a node in set B.\n",
    "\n",
    "Return true if and only if it is bipartite."
   ]
  },
  {
   "cell_type": "code",
   "execution_count": 35,
   "metadata": {},
   "outputs": [],
   "source": [
    "def isBipartite(self, graph):\n",
    "    side = [0] * len(graph)\n",
    "    def dfs(node):\n",
    "        for v in graph[node]:\n",
    "            if side[v] == 0: \n",
    "                side[v] = -side[node]\n",
    "                if not dfs(v): return False\n",
    "            elif side[v] == side[node]: return False\n",
    "        return True\n",
    "    for i in range(len(graph)):\n",
    "        if side[i] == 0: \n",
    "            side[i] = 1\n",
    "        if not dfs(i): return False\n",
    "    return True"
   ]
  },
  {
   "cell_type": "markdown",
   "metadata": {},
   "source": [
    "### Clone Graph\n",
    "Given a reference of a node in a connected undirected graph.\n",
    "\n",
    "Return a deep copy (clone) of the graph.\n",
    "\n",
    "Each node in the graph contains a value (int) and a list (List[Node]) of its neighbors.\n",
    "\n",
    "class Node {\n",
    "    public int val;\n",
    "    public List<Node> neighbors;\n",
    "}"
   ]
  },
  {
   "cell_type": "code",
   "execution_count": 36,
   "metadata": {},
   "outputs": [],
   "source": [
    "def cloneGraph(self, node: \"Node\") -> \"Node\":\n",
    "        visited = {}\n",
    "\n",
    "        def dfs(node):\n",
    "            if node and node.val not in visited:\n",
    "                newNode = Node(node.val, [])\n",
    "                visited[newNode.val] = newNode\n",
    "                newNode.neighbors = [\n",
    "                    visited.get(n.val) or dfs(n) for n in node.neighbors\n",
    "                ]\n",
    "                return newNode\n",
    "\n",
    "        return dfs(node)"
   ]
  },
  {
   "cell_type": "markdown",
   "metadata": {},
   "source": [
    "### Random Pick Index\n",
    "Given an integer array nums with possible duplicates, randomly output the index of a given target number. You can assume that the given target number must exist in the array.\n",
    "\n",
    "Implement the Solution class:\n",
    "\n",
    "Solution(int[] nums) Initializes the object with the array nums.\n",
    "int pick(int target) Picks a random index i from nums where nums[i] == target. If there are multiple valid i's, then each index should have an equal probability of returning."
   ]
  },
  {
   "cell_type": "code",
   "execution_count": 73,
   "metadata": {},
   "outputs": [],
   "source": [
    "class Solution:\n",
    "\n",
    "    def __init__(self, nums: List[int]):\n",
    "        self.indexes = collections.defaultdict(set)\n",
    "        for i, num in enumerate(nums):\n",
    "            self.indexes[num].add(i)\n",
    "\n",
    "    def pick(self, target: int) -> int:\n",
    "        return random.sample(self.indexes[target],1)[0]\n"
   ]
  },
  {
   "cell_type": "markdown",
   "metadata": {},
   "source": [
    "### Random Flip Matrix\n",
    "ou are given the number of rows n_rows and number of columns n_cols of a 2D binary matrix where all values are initially 0. Write a function flip which chooses a 0 value uniformly at random, changes it to 1, and then returns the position [row.id, col.id] of that value. Also, write a function reset which sets all values back to 0. Try to minimize the number of calls to system's Math.random() and optimize the time and space complexity.\n",
    "\n",
    "Note:\n",
    "\n",
    "1 <= n_rows, n_cols <= 10000\n",
    "0 <= row.id < n_rows and 0 <= col.id < n_cols\n",
    "flip will not be called when the matrix has no 0 values left.\n",
    "the total number of calls to flip and reset will not exceed 100"
   ]
  },
  {
   "cell_type": "code",
   "execution_count": 74,
   "metadata": {},
   "outputs": [],
   "source": [
    "class Solution:\n",
    "\n",
    "    def __init__(self, n_rows: int, n_cols: int):\n",
    "        self.rows, self.cols, self.used = n_rows, n_cols, set()\n",
    "\n",
    "    def flip(self) -> List[int]:\n",
    "        while True:\n",
    "            r,c = random.randint(1, self.rows), random.randint(1,self.cols)\n",
    "            if (r,c) not in self.used:\n",
    "                self.used.add((r,c))\n",
    "                return [r-1, c-1]\n",
    "\n",
    "    def reset(self) -> None:\n",
    "        self.used = set()"
   ]
  },
  {
   "cell_type": "markdown",
   "metadata": {},
   "source": [
    "### Linked List Random Node\n",
    "Given a singly linked list, return a random node's value from the linked list. Each node must have the same probability of being chosen."
   ]
  },
  {
   "cell_type": "code",
   "execution_count": 78,
   "metadata": {},
   "outputs": [],
   "source": [
    "class ListNode:\n",
    "    def __init__(self, val=0, next=None):\n",
    "         self.val = val\n",
    "         self.next = next\n",
    "        \n",
    "class Solution:\n",
    "\n",
    "    def __init__(self, head: ListNode):\n",
    "        self.arr = []\n",
    "        while head:\n",
    "            self.arr.append(head.val)\n",
    "            head = head.next\n",
    "\n",
    "    def getRandom(self) -> int:\n",
    "        \"\"\"\n",
    "        Returns a random node's value.\n",
    "        \"\"\"\n",
    "        return random.choice(self.arr)"
   ]
  },
  {
   "cell_type": "markdown",
   "metadata": {},
   "source": [
    "### Sort an array"
   ]
  },
  {
   "cell_type": "code",
   "execution_count": 3,
   "metadata": {},
   "outputs": [],
   "source": [
    "def sortArray(self, nums: List[int]) -> List[int]:\n",
    "    if len(nums) <= 1:\n",
    "        return nums\n",
    "    \n",
    "    pivot = random.choice(nums)\n",
    "    lt = [v for v in nums if v < pivot]\n",
    "    eq = [v for v in nums if v == pivot]\n",
    "    gt = [v for v in nums if v > pivot]\n",
    "    \n",
    "    return sortArray(lt) + eq + sortArray(gt)"
   ]
  },
  {
   "cell_type": "markdown",
   "metadata": {},
   "source": [
    "### Contiguous Array\n",
    "Given a binary array nums, return the maximum length of a contiguous subarray with an equal number of 0 and 1.\n"
   ]
  },
  {
   "cell_type": "code",
   "execution_count": 10,
   "metadata": {},
   "outputs": [],
   "source": [
    "def findMaxLength(self, nums: List[int]) -> int:\n",
    "        ind, res, sm = {0:-1}, 0, 0\n",
    "        for i, num in enumerate(nums):\n",
    "            sm += num and 1 or -1\n",
    "            print(sm)\n",
    "            if sm in ind:\n",
    "                res = max(res, i - ind[sm])\n",
    "            else:\n",
    "                ind[sm] = i\n",
    "        return res"
   ]
  },
  {
   "cell_type": "markdown",
   "metadata": {},
   "source": [
    "### MaxSubArray\n",
    "Given an array, find the total number of subarrays (find the longest subarray) that will total to k"
   ]
  },
  {
   "cell_type": "code",
   "execution_count": 12,
   "metadata": {},
   "outputs": [],
   "source": [
    "def maxSubArray(self, nums, k):\n",
    "    \n",
    "    index, l, sm = {}, 0,0\n",
    "    index[0] = -1\n",
    "    count = 0 # if you want to get the count\n",
    "    for i, num in enumerate(nums):\n",
    "        sm += num\n",
    "        if sm-k in index:\n",
    "            count += 1\n",
    "            l = max(l, i-index[sm-k])\n",
    "        if sum not in index:\n",
    "            index[sm] = i\n",
    "    return l    # return count if you want to get the count"
   ]
  },
  {
   "cell_type": "markdown",
   "metadata": {},
   "source": [
    "### Monotonic Array\n",
    "An array is monotonic if it is either monotone increasing or monotone decreasing.\n",
    "\n",
    "An array nums is monotone increasing if for all i <= j, nums[i] <= nums[j].  An array nums is monotone decreasing if for all i <= j, nums[i] >= nums[j].\n",
    "\n",
    "Return true if and only if the given array nums is monotonic."
   ]
  },
  {
   "cell_type": "code",
   "execution_count": 13,
   "metadata": {},
   "outputs": [],
   "source": [
    "def isMonotonic(self, nums: List[int]) -> bool:\n",
    "        return all(nums[i] <= nums[i-1] for i in range(1, len(nums))) or all(nums[i] >= nums[i-1] for i in range(1, len(nums)))"
   ]
  },
  {
   "cell_type": "markdown",
   "metadata": {},
   "source": [
    "### Degree of an Array\n",
    "Given a non-empty array of non-negative integers nums, the degree of this array is defined as the maximum frequency of any one of its elements.\n",
    "\n",
    "Your task is to find the smallest possible length of a (contiguous) subarray of nums, that has the same degree as nums"
   ]
  },
  {
   "cell_type": "code",
   "execution_count": 15,
   "metadata": {},
   "outputs": [],
   "source": [
    "def findShortestSubArray(self, nums: List[int]) -> int:\n",
    "    cnt = collections.Counter(nums)\n",
    "    seen = collections.defaultdict(list)\n",
    "    degree = max(cnt.values())\n",
    "    for i, v in enumerate(nums): seen[v].append(i)\n",
    "    return min(seen[v][-1] - seen[v][0] + 1 for v in cnt if cnt[v] == degree)"
   ]
  },
  {
   "cell_type": "markdown",
   "metadata": {},
   "source": [
    "### Valid Mountain Array\n",
    "Given an array of integers arr, return true if and only if it is a valid mountain array.\n",
    "\n",
    "Recall that arr is a mountain array if and only if:\n",
    "\n",
    "arr.length >= 3\n",
    "There exists some i with 0 < i < arr.length - 1 such that:\n",
    "arr[0] < arr[1] < ... < arr[i - 1] < arr[i]\n",
    "arr[i] > arr[i + 1] > ... > arr[arr.length - 1]"
   ]
  },
  {
   "cell_type": "code",
   "execution_count": 17,
   "metadata": {},
   "outputs": [],
   "source": [
    "def validMountainArray(self, arr: List[int]) -> bool:\n",
    "    i = arr and arr.index(max(arr))\n",
    "    return arr and 0<i<len(arr)-1 and all(a1<a2 for a1,a2 in zip(arr[:i],arr[1:i+1])) and all(a2>a3 for a2,a3 in zip(arr[i:],arr[i+1:])) or False"
   ]
  },
  {
   "cell_type": "markdown",
   "metadata": {},
   "source": [
    "### Intersection of Two Arrays\n",
    "Given two integer arrays nums1 and nums2, return an array of their intersection. Each element in the result must be unique and you may return the result in any order."
   ]
  },
  {
   "cell_type": "code",
   "execution_count": 18,
   "metadata": {},
   "outputs": [],
   "source": [
    "def intersection(self, nums1, nums2):\n",
    "    return list(set(nums1)&set(nums2))"
   ]
  },
  {
   "cell_type": "markdown",
   "metadata": {},
   "source": [
    "### Sort Array By Parity\n",
    "Given an array nums of non-negative integers, return an array consisting of all the even elements of nums, followed by all the odd elements of nums.\n",
    "\n",
    "You may return any answer array that satisfies this condition."
   ]
  },
  {
   "cell_type": "code",
   "execution_count": 19,
   "metadata": {},
   "outputs": [],
   "source": [
    "def sortArrayByParity(self, nums: List[int]) -> List[int]:\n",
    "    return [a for a in nums if not a%2] + [a for a in nums if a%2]"
   ]
  },
  {
   "cell_type": "markdown",
   "metadata": {},
   "source": [
    "### Merge Sorted Array\n",
    "ou are given two integer arrays nums1 and nums2, sorted in non-decreasing order, and two integers m and n, representing the number of elements in nums1 and nums2 respectively.\n",
    "\n",
    "Merge nums1 and nums2 into a single array sorted in non-decreasing order.\n",
    "\n",
    "The final sorted array should not be returned by the function, but instead be stored inside the array nums1. To accommodate this, nums1 has a length of m + n, where the first m elements denote the elements that should be merged, and the last n elements are set to 0 and should be ignored. nums2 has a length of n."
   ]
  },
  {
   "cell_type": "code",
   "execution_count": 20,
   "metadata": {},
   "outputs": [],
   "source": [
    "def merge(self, nums1: List[int], m: int, nums2: List[int], n: int) -> None:\n",
    "        \"\"\"\n",
    "        Do not return anything, modify nums1 in-place instead.\n",
    "        \"\"\"\n",
    "        while m > 0 and n >0:\n",
    "            if nums1[m-1] > nums2[n-1]:\n",
    "                nums1[m+n-1] = nums1[m-1]\n",
    "                m -= 1\n",
    "            else:\n",
    "                nums1[m+n-1] = nums2[n-1]\n",
    "                n -= 1\n",
    "        if n > 0:\n",
    "            nums1[:n] = nums2[:n]"
   ]
  },
  {
   "cell_type": "markdown",
   "metadata": {},
   "source": [
    "### Merge Two Sorted Lists\n",
    "Merge two sorted linked lists and return it as a sorted list. The list should be made by splicing together the nodes of the first two lists."
   ]
  },
  {
   "cell_type": "code",
   "execution_count": 23,
   "metadata": {},
   "outputs": [],
   "source": [
    "class ListNode:\n",
    "     def __init__(self, val=0, next=None):\n",
    "         self.val = val\n",
    "         self.next = next\n",
    "def mergeTwoLists(self, l1: ListNode, l2: ListNode) -> ListNode:\n",
    "    if not l2:\n",
    "        return l1\n",
    "    elif not l1: return l2\n",
    "    if l2.val > l1.val:\n",
    "        l2.next = self.mergeTwoLists(l1, l2.next)\n",
    "        return l2\n",
    "    else:\n",
    "        l1.next = self.mergeTwoLists(l1.next, l2)\n",
    "        return l1"
   ]
  },
  {
   "cell_type": "code",
   "execution_count": null,
   "metadata": {},
   "outputs": [],
   "source": []
  }
 ],
 "metadata": {
  "kernelspec": {
   "display_name": "Python 3",
   "language": "python",
   "name": "python3"
  },
  "language_info": {
   "codemirror_mode": {
    "name": "ipython",
    "version": 3
   },
   "file_extension": ".py",
   "mimetype": "text/x-python",
   "name": "python",
   "nbconvert_exporter": "python",
   "pygments_lexer": "ipython3",
   "version": "3.5.3"
  }
 },
 "nbformat": 4,
 "nbformat_minor": 4
}
